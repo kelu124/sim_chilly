{
 "cells": [
  {
   "cell_type": "code",
   "execution_count": 47,
   "metadata": {},
   "outputs": [],
   "source": [
    "import re, json"
   ]
  },
  {
   "cell_type": "code",
   "execution_count": 48,
   "metadata": {},
   "outputs": [
    {
     "name": "stdout",
     "output_type": "stream",
     "text": [
      "The autoreload extension is already loaded. To reload it, use:\n",
      "  %reload_ext autoreload\n"
     ]
    }
   ],
   "source": [
    "%load_ext autoreload\n",
    "%autoreload 2"
   ]
  },
  {
   "cell_type": "code",
   "execution_count": 49,
   "metadata": {},
   "outputs": [],
   "source": [
    "import warnings\n",
    "warnings.filterwarnings('ignore')\n",
    "import OAI\n",
    "from langchain.docstore.document import Document\n",
    "\n",
    "h = OAI.Helper(\"demo_ask\",\"./cache\")\n",
    "f = OAI.askFCT(\"demo_fct\",\"./cache\")\n",
    "\n",
    "version = \"v2\""
   ]
  },
  {
   "cell_type": "code",
   "execution_count": 50,
   "metadata": {},
   "outputs": [
    {
     "data": {
      "text/plain": [
       "['The Sweater Enthusiast',\n",
       " 'The AC Abuser',\n",
       " 'The Heater Hugger',\n",
       " 'The Temperature Mediator',\n",
       " 'The Window Opener',\n",
       " 'The Blanket Lover',\n",
       " 'The Thermometer Checker',\n",
       " 'The Fanatic',\n",
       " 'The \"I\\'m Always Cold\" Person',\n",
       " 'The \"I\\'m Always Hot\" Person']"
      ]
     },
     "execution_count": 50,
     "metadata": {},
     "output_type": "execute_result"
    }
   ],
   "source": [
    "PPL = h.ask(\"You are a journalist. Who are 10 types of persons you might meet in an office space, who have different approach to the temperature in the office?\",\"Answer with an unnumbered comma separated list of personas.\")\n",
    "PPL = [x.strip() for x in PPL.split(\",\")]\n",
    "PPL"
   ]
  },
  {
   "cell_type": "code",
   "execution_count": 51,
   "metadata": {},
   "outputs": [
    {
     "data": {
      "text/plain": [
       "['The Sweater Enthusiast',\n",
       " 'The AC Abuser',\n",
       " 'The Temperature Mediator',\n",
       " 'The Window Opener',\n",
       " 'The Thermometer Checker']"
      ]
     },
     "execution_count": 51,
     "metadata": {},
     "output_type": "execute_result"
    }
   ],
   "source": [
    "SHORTLIST = ['The Sweater Enthusiast','The AC Abuser','The Temperature Mediator', 'The Window Opener','The Thermometer Checker']\n",
    "SHORTLIST"
   ]
  },
  {
   "cell_type": "code",
   "execution_count": 52,
   "metadata": {},
   "outputs": [],
   "source": [
    "world = {}"
   ]
  },
  {
   "cell_type": "code",
   "execution_count": 53,
   "metadata": {},
   "outputs": [],
   "source": [
    "personas = {}"
   ]
  },
  {
   "cell_type": "code",
   "execution_count": 54,
   "metadata": {},
   "outputs": [],
   "source": [
    "for ppl in SHORTLIST:\n",
    "    personas[ppl] = {}\n",
    "    bio = h.ask(\"You are a journalist who meets a person in an office space. They self-jokingly call themselves '\"+ppl+\"'\",\"Write a short paragraph that gives this person a name, age, and a short bio of this person. You can be creative! Answer as 200 words paragraph.\")\n",
    "    personas[ppl][\"bio\"] = bio\n",
    "    personas[ppl][\"name\"] = h.ask(\"You are given a bio of someone. What is their name and family name? Answer with just these two separated by a comma, no nicknames. For example, Joe 'big boy' wallace  ---> Joe, Wallance\",bio)\n",
    "    age = h.ask(\"You are given a bio of someone. What is their age as an integer, no letters, only a number\",bio)\n",
    "    personas[ppl][\"age\"] = re.sub(\"[^0-9]\", \"\", age)\n",
    "    personas[ppl][\"temp\"] = h.ask(\"You are given a bio of someone. What is their preferred room temperature, if they were to live or work in this room? Answer with only a float number, in celsius, no text around it.\",bio)\n",
    "    cloths = h.ask(\"You are given a bio of someone. What are the cloths they are currently wearing based on their bio? Assume it is sprint time. If it is not specified, you must imagine based on the description. Answer with a bullet point list of pieces of clothing (what they are, not what they look like), that should cover at least what is visible if one were to see them. Answer with only an unnumber bullet point list, there should be no text outside of the bullet points.\",bio)\n",
    "    personas[ppl][\"cloths\"] = [x[1:].strip() for x in cloths.split(\"\\n\")]\n",
    "    moodp = h.ask(\"You are given a bio of someone. From this, and from one could imagine, what are their 3 positive character traits?  Answer with only an unnumber bullet point list, there should be no text outside of the bullet points.\",bio)\n",
    "    personas[ppl][\"moodp\"] = [x[1:].strip() for x in moodp.split(\"\\n\")]\n",
    "    moodn = h.ask(\"You are given a bio of someone. From this, and from one could imagine, what are their 3 negative character traits?  Answer with only an unnumber bullet point list, there should be no text outside of the bullet points.\",bio)\n",
    "    personas[ppl][\"moodn\"] = [x[1:].strip() for x in moodn.split(\"\\n\")]\n",
    "    moodp\n",
    "\n"
   ]
  },
  {
   "cell_type": "code",
   "execution_count": 55,
   "metadata": {},
   "outputs": [],
   "source": [
    "world[\"people\"] = personas"
   ]
  },
  {
   "cell_type": "code",
   "execution_count": 56,
   "metadata": {},
   "outputs": [],
   "source": [
    "world[\"room\"] = {}\n",
    "\n",
    "SCENE = h.ask(\"You are a scenario writer. The scene is around people who wants to find a way to agree on the right temperature for the thermostat of a room. You can imagine any room: start with a five paragraph description of the room. Include description of the objects that could influence air temperature or air quality (and include mention of windows, thermostat, ac controler).\",\"The time of the year is spring, and we are in an tertiary office building. Write three paragraphs.\")\n",
    "world[\"room\"][\"scene\"] = SCENE\n",
    "\n",
    "OBJ = h.ask(\"You are given the description of a scene. I want you to identify in this scene anything related to the 'temperature' or 'temperature' control of the room. Answer with an unnumbered bullet point list of objects\",SCENE)\n",
    "world[\"room\"][\"objects\"]  = [x[1:].strip() for x in OBJ.split(\"\\n\")]\n",
    "OBPHYS = h.ask(\"You are given the description of a scene. I want you to identify in this scene any physical objects related to the 'temperature' or 'temperature' control of the room. Answer with an unnumbered bullet point list of objects\",SCENE)\n",
    "world[\"room\"][\"objects_physic\"]  = [x[1:].strip() for x in OBPHYS.split(\"\\n\")]\n",
    "current_temperature = h.ask(\"You are given a scene. What is the most probable temperature of the air in the room, given the description? Answer in celsius, with only one floating number. There must be no justification, just a number.\",SCENE)\n",
    "world[\"room\"][\"current_temperature\"] = float(current_temperature)"
   ]
  },
  {
   "cell_type": "code",
   "execution_count": 57,
   "metadata": {},
   "outputs": [
    {
     "name": "stdout",
     "output_type": "stream",
     "text": [
      "### Person n1\n",
      "\n",
      "* Name: Oliver\n",
      "* Family Name: Brooks\n",
      "* Nickname: The Thermometer Checker\n",
      "* Age: 32\n",
      "* Desired temperature: wants the room temperature at 25.5°C.\n",
      "* Cloths:\n",
      "  * Button-up shirt\n",
      "  * Pants\n",
      "  * Shoes  \n",
      "  * Socks  \n",
      "* Personality:\n",
      "  * Charismatic and jovial personality\n",
      "  * Infectious sense of humor\n",
      "  * Dedication to bringing joy and comfort to the workplace\n",
      "  * Eccentric personality\n",
      "  * Overwhelming fascination with office thermostat\n",
      "  * Relentless pursuit of thermodynamic measurement skills\n"
     ]
    }
   ],
   "source": [
    "def desc(ppl,i):\n",
    "\n",
    "    p = world[\"people\"][ppl]\n",
    "    md  = '### Person n'+str(i)+'\\n'\n",
    "    md += '\\n* Name: '+p[\"name\"].split(\",\")[0].strip()\n",
    "    md += '\\n* Family Name: '+p[\"name\"].split(\",\")[-1].strip()\n",
    "    md += \"\\n* Nickname: \"+ppl\n",
    "    md += \"\\n* Age: \"+p[\"age\"]\n",
    "    md += \"\\n* Desired temperature: wants the room temperature at \"+p[\"temp\"]+\"°C.\"\n",
    "    md += \"\\n* Cloths:\"\n",
    "    for c in p[\"cloths\"]:\n",
    "        md+= \"\\n  * \"+re.sub(r'\\([^()]*\\)', ' ', c)\n",
    "    md += \"\\n* Personality:\"\n",
    "    for c in p[\"moodp\"]:\n",
    "        md+= \"\\n  * \"+c\n",
    "    for c in p[\"moodn\"]:\n",
    "        md+= \"\\n  * \"+c\n",
    "    #re.sub(r'\\([^()]*\\)', ' ', employee)\n",
    "    return md\n",
    "d = desc('The Thermometer Checker',1)\n",
    "print(d)\n"
   ]
  },
  {
   "cell_type": "code",
   "execution_count": 58,
   "metadata": {},
   "outputs": [],
   "source": [
    "ROOM = \"\\n\\n## Room description\\n\\n\" + world[\"room\"][\"scene\"]\n",
    "ROOM += \"\\n## Objects the characters can use\\n* \"\n",
    "ROOM += \"\\n* \".join(world[\"room\"][\"objects_physic\"])\n"
   ]
  },
  {
   "cell_type": "code",
   "execution_count": 59,
   "metadata": {},
   "outputs": [],
   "source": [
    "CONTEXT  = \"# Initial of the scene\\n\"\n",
    "CONTEXT += '\\n\\n## Objectives\\n\\n'\n",
    "CONTEXT += \"The objective of this scenario is to understand how people will react when put together in a room and try to get the best temperature for all.\"\n",
    "CONTEXT += \" This includes the room description, people descriptions, and we'll try and identify how people will collaborate, or not.\"\n",
    "CONTEXT += ROOM\n",
    "CONTEXT += \"\\n## Characters in the room\\n\\n\"\n",
    "i = 1\n",
    "for ppl in world[\"people\"]:\n",
    "    CONTEXT += \"\\n\\n\"+desc(ppl,i)\n",
    "    i += 1\n"
   ]
  },
  {
   "cell_type": "code",
   "execution_count": 60,
   "metadata": {},
   "outputs": [
    {
     "name": "stdout",
     "output_type": "stream",
     "text": [
      "# Initial of the scene\n",
      "\n",
      "\n",
      "## Objectives\n",
      "\n",
      "The objective of this scenario is to understand how people will react when put together in a room and try to get the best temperature for all. This includes the room description, people descriptions, and we'll try and identify how people will collaborate, or not.\n",
      "\n",
      "## Room description\n",
      "\n",
      "The conference room is nestled on the fourth floor of a sleek tertiary office building, overlooking the bustling city streets below. Bathed in natural light, the walls are adorned with abstract paintings that add a pop of color to the otherwise minimalist space. The room is well-sized, with a long rectangular table in the center, surrounded by comfortable ergonomic chairs. A sleek projector screen is mounted on one side, ready to display presentations and charts. The polished wooden floor lends an air of sophistication to the room, while soundproof walls ensure privacy during important meetings.\n",
      "\n",
      "Flanking the walls are large double-pane windows, which offer a panoramic view of the surrounding cityscape. These windows, while provide breathtaking views, also play a significant role in the room's temperature. During the spring season, the windows are often cracked open to let in a gentle breeze, allowing the room to be filled with the refreshing scent of blooming flowers. However, they can also contribute to fluctuations in the air temperature, making it a factor that needs to be considered when setting the thermostat.\n",
      "\n",
      "Prominently placed on the wall is the sleek, modern thermostat, equipped with a digital display and intuitive controls. With just a touch of a button, the occupants of the conference room have the power to set their desired temperature and control the room's climate. The thermostat is programmed to deliver optimal comfort, but individual preferences often prompt discussions and debates regarding the right temperature for the room.\n",
      "\n",
      "Adding to the list of objects that influence air temperature and quality, there is also an AC controller neatly placed on the wall next to the thermostat. The AC controller allows for precise adjustments of the air conditioning system, ensuring that the room remains cool and comfortable even on the warmest of days. It serves as an alternative control option, empowering the occupants to take charge of the room's temperature in a more hands-on manner. Whether it's precision temperature control or simply refreshing the air, the AC controller becomes a key player in the quest to strike the right balance in the conference room's atmosphere.\n",
      "## Objects the characters can use\n",
      "* Large double-pane windows\n",
      "* Thermostat with a digital display and intuitive controls\n",
      "* AC controller\n",
      "## Characters in the room\n",
      "\n",
      "\n",
      "\n",
      "### Person n1\n",
      "\n",
      "* Name: Benjamin\n",
      "* Family Name: Hartwell\n",
      "* Nickname: The Sweater Enthusiast\n",
      "* Age: 35\n",
      "* Desired temperature: wants the room temperature at 24.5°C.\n",
      "* Cloths:\n",
      "  * Sweater  \n",
      "  * Knitted jumper\n",
      "  * Cable patterned sweater\n",
      "  * Bold and eye-catching statement pieces\n",
      "  * Various sweaters from his collection\n",
      "  * Accessories like scarves or hats made of knitted yarn\n",
      "* Personality:\n",
      "  * Infectious sense of humor\n",
      "  * Unmatched passion for all things knitted\n",
      "  * Playful personality\n",
      "  * Overly obsessive and consumed with sweaters\n",
      "  * Lack of ambition in pursuing a career in the fashion industry\n",
      "  * Detrimental impact on professional and personal life due to obsession.\n",
      "\n",
      "### Person n2\n",
      "\n",
      "* Name: Zephyr\n",
      "* Family Name: Breeze\n",
      "* Nickname: The AC Abuser\n",
      "* Age: 30\n",
      "* Desired temperature: wants the room temperature at 24.5°C.\n",
      "* Cloths:\n",
      "  * Tropical shirt\n",
      "  * Unkempt hair  \n",
      "  * Blue eyes  \n",
      "  * Perpetual smirk  \n",
      "  * Office attire  \n",
      "  * Visible accessories like watch, bracelet, or necklace  \n",
      "* Personality:\n",
      "  * Mischievous nature\n",
      "  * Sense of humor\n",
      "  * Genuine care for colleagues\n",
      "  * Mischievous nature\n",
      "  * Disruptive behavior\n",
      "  * Lack of consideration for others' comfort\n",
      "\n",
      "### Person n3\n",
      "\n",
      "* Name: Maxwell\n",
      "* Family Name: Frost\n",
      "* Nickname: The Temperature Mediator\n",
      "* Age: 34\n",
      "* Desired temperature: wants the room temperature at 23.5°C.\n",
      "* Cloths:\n",
      "  * Colorful suspenders\n",
      "  * Mismatched socks\n",
      "* Personality:\n",
      "  * Easygoing demeanor\n",
      "  * Ability to diffuse tense situations with humor\n",
      "  * Passion and expertise in office climate control\n",
      "  * Quirky and sometimes inappropriate sense of humor\n",
      "  * Tendency to prioritize office climate control over other aspects of work\n",
      "  * May downplay or make light of serious issues\n",
      "\n",
      "### Person n4\n",
      "\n",
      "* Name: Christopher\n",
      "* Family Name: Fraser\n",
      "* Nickname: The Window Opener\n",
      "* Age: 30\n",
      "* Desired temperature: wants the room temperature at 24.5°C.\n",
      "* Cloths:\n",
      "  * Office-appropriate shirt  \n",
      "  * Trousers or dress pants\n",
      "  * Casual shoes  \n",
      "  * A watch or other accessories may also be worn, but not specified in the bio.\n",
      "* Personality:\n",
      "  * Infectious sense of humor\n",
      "  * Ability to find joy in the mundane\n",
      "  * Keen intuition for breaking tension and fostering collaboration\n",
      "  * Prone to using humor as a defense mechanism\n",
      "  * May struggle to take serious situations seriously\n",
      "  * May prioritize fun and entertainment over productivity at times\n",
      "\n",
      "### Person n5\n",
      "\n",
      "* Name: Oliver\n",
      "* Family Name: Brooks\n",
      "* Nickname: The Thermometer Checker\n",
      "* Age: 32\n",
      "* Desired temperature: wants the room temperature at 25.5°C.\n",
      "* Cloths:\n",
      "  * Button-up shirt\n",
      "  * Pants\n",
      "  * Shoes  \n",
      "  * Socks  \n",
      "* Personality:\n",
      "  * Charismatic and jovial personality\n",
      "  * Infectious sense of humor\n",
      "  * Dedication to bringing joy and comfort to the workplace\n",
      "  * Eccentric personality\n",
      "  * Overwhelming fascination with office thermostat\n",
      "  * Relentless pursuit of thermodynamic measurement skills\n"
     ]
    }
   ],
   "source": [
    "print(CONTEXT)"
   ]
  },
  {
   "cell_type": "code",
   "execution_count": 61,
   "metadata": {},
   "outputs": [],
   "source": [
    "ACTIONS = []\n",
    "for p in world[\"people\"]:\n",
    "    NAME = world[\"people\"][ppl][\"name\"].replace(\",\",\" \")\n",
    "    OBS = h.ask(\"Act as if you were \"+NAME+\", you must stay in character with the informations provided. You are given the following context of where you are right now: \\n\"+CONTEXT,\"Write a short paragraph detailing the situation around you, and if the temperature of the room suits you. The temperature must exactly be your desired temperature, else you will not be happy.\")\n",
    "    REFLE = h.ask(\"Act as if you were \"+NAME+\", you must stay in character with the informations provided. You are given the following context of where you are right now: \\n\"+CONTEXT+\"\\n\\n# Self observations\\n\"+OBS,\"Write a short paragraph about the reflections about yourself - how do you feel, and how could you feel better.\")\n",
    "    ACTION = h.ask(\"Act as if you were \"+NAME+\", you must stay in character with the informations provided. You are given the following context of where you are right now: \\n\"+CONTEXT+\"\\n\\n# Self observations\\n\"+OBS+\"\\n\\n# Self reflection\\n\"+REFLE,\"What are the two immediate actions you will take now based on these observations and reflections? Answer as a list of unnumbered bullet points, using the third person and specifying the name of the person.\")\n",
    "    for a in ACTION:\n",
    "        ACTIONS.append(a)"
   ]
  },
  {
   "cell_type": "code",
   "execution_count": 62,
   "metadata": {},
   "outputs": [
    {
     "name": "stdout",
     "output_type": "stream",
     "text": [
      "In the conference room, Oliver, known as The Thermometer Checker, approaches the thermostat to check the current temperature. He realizes that the temperature is not at the desired 25.5°C and decides to come up with a plan to address the issue. Oliver gathers the other occupants of the room and leads a collaborative discussion about setting the temperature, taking into consideration Benjamin's desire for 24.5°C, Maxwell's preference for 23.5°C, and Christopher's enthusiasm for 24.5°C. Zephyr, known as The AC Abuser, is initially resistant to compromise but eventually agrees to a slightly higher temperature.\n",
      "\n",
      "After a lively discussion, the group decides to set the thermostat at 24.5°C, considering that it falls within the range of preferences and provides a comfortable compromise for everyone. They also agree to intermittently open the windows to let in a refreshing breeze without causing significant fluctuations in the room's temperature. As the room settles into a pleasant atmosphere, the occupants engage in genuine conversation and collaboration, fostering a positive environment for their meeting.\n",
      "\n",
      "The room thermometer now reads 24.5°C, reflecting the collective decision and the willingness of the occupants to find a middle ground.\n"
     ]
    }
   ],
   "source": [
    "nxt = h.ask(\"You are writing a scenario. The context is as follows:\\n\"+CONTEXT+\"\\n\\nand your characters want to do the following:\\* \"+\"\\* \".join(ACTIONS), \"Write a couple of paragraphs that reconciles the actions and describes the scene. Use simple phrases, and write a short paragraph captures the intent of everyone. Do not mention the nicknames of the characters. One character can be unhappy. Your last line must be the room temperature (in celsius, only a floating number), after the scene has resolved.\")\n",
    "print(nxt)"
   ]
  },
  {
   "cell_type": "code",
   "execution_count": 63,
   "metadata": {},
   "outputs": [],
   "source": [
    "ACTIONS = []\n",
    "for p in world[\"people\"]:\n",
    "    NAME = world[\"people\"][p][\"name\"].replace(\",\",\" \")\n",
    "    a = h.ask(\"The context is as follows:\\n\"+CONTEXT+\"\\n# Last scene:\\n\\n\"+nxt,\"Write a paragraph about \"+NAME+\", considering if they are exactly at the room temperature they need (if not, they are not happy).\")\n",
    "    b = h.ask(a,\"Now, write two bullet points that are the next two immediate actions \"+NAME+\" will take now, specifying \"+NAME+\"'s name. These bullet points must be separated by newlines from the rest of the text, and start with the name of the character.\")\n",
    "    ACTIONS.append([NAME,b])\n"
   ]
  },
  {
   "cell_type": "code",
   "execution_count": 64,
   "metadata": {},
   "outputs": [],
   "source": [
    "acts = []\n",
    "for x in ACTIONS:\n",
    "    acts.append(x[0])\n",
    "    for k in x[1].split(\"\\n\")[-2:]:\n",
    "        acts.append(k)\n",
    "THEN = \"\\n\".join(acts)"
   ]
  },
  {
   "cell_type": "code",
   "execution_count": 65,
   "metadata": {},
   "outputs": [
    {
     "name": "stdout",
     "output_type": "stream",
     "text": [
      "Processing with gpt-3.5-turbo-16k-0613 :\t 03/09/2024, 10:26:44 --> 03/09/2024, 10:26:47\n"
     ]
    }
   ],
   "source": [
    "room = h.ask(\"You are writing a scenario in the style of Stephen King. The context is as follows:\\n\"+CONTEXT+\"\\n\\n# The room\\nThe room looked like:\\nn\"+ROOM+\"\\n\\n#Actions\\n\\nThen the characters did this:\\n\\n\"+THEN,\"Add then a very detailed paragraph that details how the room looks like, what it contains, who is where, etc... after the actions of the characters have resolved .\")\n"
   ]
  },
  {
   "cell_type": "code",
   "execution_count": 66,
   "metadata": {},
   "outputs": [],
   "source": [
    "SCENES = [nxt]\n",
    "ALLACTIONS = [THEN]\n",
    "ROOMS = [room]"
   ]
  },
  {
   "cell_type": "code",
   "execution_count": 67,
   "metadata": {},
   "outputs": [],
   "source": [
    "def fullcontext(CONTEXT,SCENES):\n",
    "    rrr = str(CONTEXT).replace(ROOM,\"\")\n",
    "    if len(SCENES):\n",
    "        rrr += \"\\n\\n# Previous scenes\\n\\n\"\n",
    "        for k in range(len(SCENES)):\n",
    "            rrr += \"\\n\\n## Scene n\"+str(k)+\":\\n\\n\"\n",
    "            rrr += SCENES[k]+\"\\n\\n\"\n",
    "            \n",
    "    return rrr"
   ]
  },
  {
   "cell_type": "code",
   "execution_count": 71,
   "metadata": {},
   "outputs": [
    {
     "name": "stdout",
     "output_type": "stream",
     "text": [
      "Processing with gpt-3.5-turbo-16k-0613 :\t 03/09/2024, 10:46:39 --> 03/09/2024, 10:46:40\n",
      "Processing with gpt-3.5-turbo-16k-0613 :\t 03/09/2024, 10:46:41 --> 03/09/2024, 10:46:41\n",
      "Processing with gpt-3.5-turbo-16k-0613 :\t 03/09/2024, 10:46:41 --> 03/09/2024, 10:46:47\n",
      "Processing with gpt-3.5-turbo-16k-0613 :\t 03/09/2024, 10:46:48 --> 03/09/2024, 10:46:51\n",
      "Processing with gpt-3.5-turbo-16k-0613 :\t 03/09/2024, 10:46:51 --> 03/09/2024, 10:46:57\n",
      "Processing with gpt-3.5-turbo-16k-0613 :\t 03/09/2024, 10:46:57 --> 03/09/2024, 10:47:00\n",
      "Processing with gpt-3.5-turbo-16k-0613 :\t 03/09/2024, 10:47:01 --> 03/09/2024, 10:47:08\n",
      "Processing with gpt-3.5-turbo-16k-0613 :\t 03/09/2024, 10:47:09 --> 03/09/2024, 10:47:16\n",
      "Processing with gpt-3.5-turbo-16k-0613 :\t 03/09/2024, 10:47:16 --> 03/09/2024, 10:47:25\n",
      "Processing with gpt-3.5-turbo-16k-0613 :\t 03/09/2024, 10:47:25 --> 03/09/2024, 10:47:29\n",
      "Processing with gpt-3.5-turbo-16k-0613 :\t 03/09/2024, 10:47:30 --> 03/09/2024, 10:47:42\n",
      "Processing with gpt-3.5-turbo-16k-0613 :\t 03/09/2024, 10:47:50 --> 03/09/2024, 10:48:30\n",
      "Processing with gpt-3.5-turbo-16k-0613 :\t 03/09/2024, 10:48:33 --> 03/09/2024, 10:48:35\n",
      "Processing with gpt-3.5-turbo-16k-0613 :\t 03/09/2024, 10:48:36 --> 03/09/2024, 10:48:39\n",
      "Processing with gpt-3.5-turbo-16k-0613 :\t 03/09/2024, 10:48:39 --> 03/09/2024, 10:48:47\n",
      "Processing with gpt-3.5-turbo-16k-0613 :\t 03/09/2024, 10:48:48 --> 03/09/2024, 10:48:50\n",
      "Processing with gpt-3.5-turbo-16k-0613 :\t 03/09/2024, 10:48:51 --> 03/09/2024, 10:48:58\n",
      "Processing with gpt-3.5-turbo-16k-0613 :\t 03/09/2024, 10:48:58 --> 03/09/2024, 10:49:00\n",
      "Processing with gpt-3.5-turbo-16k-0613 :\t 03/09/2024, 10:49:00 --> 03/09/2024, 10:49:07\n",
      "Processing with gpt-3.5-turbo-16k-0613 :\t 03/09/2024, 10:49:08 --> 03/09/2024, 10:49:09\n",
      "Processing with gpt-3.5-turbo-16k-0613 :\t 03/09/2024, 10:49:10 --> 03/09/2024, 10:49:12\n",
      "Processing with gpt-3.5-turbo-16k-0613 :\t 03/09/2024, 10:49:12 --> 03/09/2024, 10:49:15\n",
      "Processing with gpt-3.5-turbo-16k-0613 :\t 03/09/2024, 10:49:15 --> 03/09/2024, 10:49:18\n",
      "Processing with gpt-3.5-turbo-16k-0613 :\t 03/09/2024, 10:49:18 --> 03/09/2024, 10:49:49\n",
      "Processing with gpt-3.5-turbo-16k-0613 :\t 03/09/2024, 10:49:49 --> 03/09/2024, 10:49:57\n",
      "Processing with gpt-3.5-turbo-16k-0613 :\t 03/09/2024, 10:49:57 --> 03/09/2024, 10:50:00\n",
      "Processing with gpt-3.5-turbo-16k-0613 :\t 03/09/2024, 10:50:01 --> 03/09/2024, 10:50:05\n",
      "Processing with gpt-3.5-turbo-16k-0613 :\t 03/09/2024, 10:50:05 --> 03/09/2024, 10:50:06\n",
      "Processing with gpt-3.5-turbo-16k-0613 :\t 03/09/2024, 10:50:06 --> 03/09/2024, 10:50:13\n",
      "Processing with gpt-3.5-turbo-16k-0613 :\t 03/09/2024, 10:50:13 --> 03/09/2024, 10:50:16\n",
      "Processing with gpt-3.5-turbo-16k-0613 :\t 03/09/2024, 10:50:16 --> 03/09/2024, 10:50:19\n",
      "Processing with gpt-3.5-turbo-16k-0613 :\t 03/09/2024, 10:50:19 --> 03/09/2024, 10:50:19\n",
      "Processing with gpt-3.5-turbo-16k-0613 :\t 03/09/2024, 10:50:20 --> 03/09/2024, 10:50:26\n",
      "Processing with gpt-3.5-turbo-16k-0613 :\t 03/09/2024, 10:50:27 --> 03/09/2024, 10:50:27\n",
      "Processing with gpt-3.5-turbo-16k-0613 :\t 03/09/2024, 10:50:27 --> 03/09/2024, 10:50:30\n",
      "Processing with gpt-3.5-turbo-16k-0613 :\t 03/09/2024, 10:50:30 --> 03/09/2024, 10:50:40\n",
      "Processing with gpt-3.5-turbo-16k-0613 :\t 03/09/2024, 10:50:40 --> 03/09/2024, 10:50:46\n",
      "Processing with gpt-3.5-turbo-16k-0613 :\t 03/09/2024, 10:50:46 --> 03/09/2024, 10:50:47\n",
      "Processing with gpt-3.5-turbo-16k-0613 :\t 03/09/2024, 10:50:47 --> 03/09/2024, 10:50:49\n",
      "Processing with gpt-3.5-turbo-16k-0613 :\t 03/09/2024, 10:50:50 --> 03/09/2024, 10:50:52\n",
      "Processing with gpt-3.5-turbo-16k-0613 :\t 03/09/2024, 10:50:52 --> 03/09/2024, 10:50:54\n",
      "Processing with gpt-3.5-turbo-16k-0613 :\t 03/09/2024, 10:50:54 --> 03/09/2024, 10:50:56\n",
      "Processing with gpt-3.5-turbo-16k-0613 :\t 03/09/2024, 10:50:57 --> 03/09/2024, 10:50:59\n",
      "Processing with gpt-3.5-turbo-16k-0613 :\t 03/09/2024, 10:50:59 --> 03/09/2024, 10:51:00\n",
      "Processing with gpt-3.5-turbo-16k-0613 :\t 03/09/2024, 10:51:00 --> 03/09/2024, 10:51:06\n",
      "Processing with gpt-3.5-turbo-16k-0613 :\t 03/09/2024, 10:51:07 --> 03/09/2024, 10:51:09\n",
      "Processing with gpt-3.5-turbo-16k-0613 :\t 03/09/2024, 10:51:09 --> 03/09/2024, 10:51:12\n",
      "Processing with gpt-3.5-turbo-16k-0613 :\t 03/09/2024, 10:51:12 --> 03/09/2024, 10:51:22\n",
      "Processing with gpt-3.5-turbo-16k-0613 :\t 03/09/2024, 10:51:23 --> 03/09/2024, 10:51:30\n",
      "Processing with gpt-3.5-turbo-16k-0613 :\t 03/09/2024, 10:51:30 --> 03/09/2024, 10:51:31\n",
      "Processing with gpt-3.5-turbo-16k-0613 :\t 03/09/2024, 10:51:31 --> 03/09/2024, 10:51:37\n",
      "Processing with gpt-3.5-turbo-16k-0613 :\t 03/09/2024, 10:51:37 --> 03/09/2024, 10:51:40\n",
      "Processing with gpt-3.5-turbo-16k-0613 :\t 03/09/2024, 10:51:41 --> 03/09/2024, 10:51:46\n",
      "Processing with gpt-3.5-turbo-16k-0613 :\t 03/09/2024, 10:51:46 --> 03/09/2024, 10:51:49\n",
      "Processing with gpt-3.5-turbo-16k-0613 :\t 03/09/2024, 10:51:49 --> 03/09/2024, 10:51:56\n",
      "Processing with gpt-3.5-turbo-16k-0613 :\t 03/09/2024, 10:51:56 --> 03/09/2024, 10:51:57\n",
      "Processing with gpt-3.5-turbo-16k-0613 :\t 03/09/2024, 10:51:57 --> 03/09/2024, 10:52:04\n",
      "Processing with gpt-3.5-turbo-16k-0613 :\t 03/09/2024, 10:52:04 --> 03/09/2024, 10:52:06\n",
      "Processing with gpt-3.5-turbo-16k-0613 :\t 03/09/2024, 10:52:06 --> 03/09/2024, 10:52:10\n",
      "Processing with gpt-3.5-turbo-16k-0613 :\t 03/09/2024, 10:52:10 --> 03/09/2024, 10:52:40\n",
      "Processing with gpt-3.5-turbo-16k-0613 :\t 03/09/2024, 10:52:40 --> 03/09/2024, 10:52:46\n",
      "Processing with gpt-3.5-turbo-16k-0613 :\t 03/09/2024, 10:52:47 --> 03/09/2024, 10:52:49\n",
      "Processing with gpt-3.5-turbo-16k-0613 :\t 03/09/2024, 10:52:49 --> 03/09/2024, 10:52:55\n",
      "Processing with gpt-3.5-turbo-16k-0613 :\t 03/09/2024, 10:52:55 --> 03/09/2024, 10:52:58\n",
      "Processing with gpt-3.5-turbo-16k-0613 :\t 03/09/2024, 10:52:58 --> 03/09/2024, 10:53:03\n",
      "Processing with gpt-3.5-turbo-16k-0613 :\t 03/09/2024, 10:53:04 --> 03/09/2024, 10:53:06\n",
      "Processing with gpt-3.5-turbo-16k-0613 :\t 03/09/2024, 10:53:06 --> 03/09/2024, 10:53:14\n",
      "Processing with gpt-3.5-turbo-16k-0613 :\t 03/09/2024, 10:53:14 --> 03/09/2024, 10:53:19\n",
      "Processing with gpt-3.5-turbo-16k-0613 :\t 03/09/2024, 10:53:19 --> 03/09/2024, 10:53:24\n",
      "Processing with gpt-3.5-turbo-16k-0613 :\t 03/09/2024, 10:53:24 --> 03/09/2024, 10:53:25\n",
      "Processing with gpt-3.5-turbo-16k-0613 :\t 03/09/2024, 10:53:25 --> 03/09/2024, 10:53:35\n",
      "Processing with gpt-3.5-turbo-16k-0613 :\t 03/09/2024, 10:53:35 --> 03/09/2024, 10:54:13\n",
      "Processing with gpt-3.5-turbo-16k-0613 :\t 03/09/2024, 10:54:13 --> 03/09/2024, 10:54:15\n",
      "Processing with gpt-3.5-turbo-16k-0613 :\t 03/09/2024, 10:54:15 --> 03/09/2024, 10:54:16\n",
      "Processing with gpt-3.5-turbo-16k-0613 :\t 03/09/2024, 10:54:16 --> 03/09/2024, 10:54:24\n",
      "Processing with gpt-3.5-turbo-16k-0613 :\t 03/09/2024, 10:54:24 --> 03/09/2024, 10:54:28\n",
      "Processing with gpt-3.5-turbo-16k-0613 :\t 03/09/2024, 10:54:28 --> 03/09/2024, 10:54:35\n",
      "Processing with gpt-3.5-turbo-16k-0613 :\t 03/09/2024, 10:54:35 --> 03/09/2024, 10:54:38\n",
      "Processing with gpt-3.5-turbo-16k-0613 :\t 03/09/2024, 10:54:39 --> 03/09/2024, 10:54:45\n",
      "Processing with gpt-3.5-turbo-16k-0613 :\t 03/09/2024, 10:54:45 --> 03/09/2024, 10:54:49\n",
      "Processing with gpt-3.5-turbo-16k-0613 :\t 03/09/2024, 10:54:49 --> 03/09/2024, 10:54:51\n",
      "Processing with gpt-3.5-turbo-16k-0613 :\t 03/09/2024, 10:54:52 --> 03/09/2024, 10:54:55\n",
      "Processing with gpt-3.5-turbo-16k-0613 :\t 03/09/2024, 10:54:55 --> 03/09/2024, 10:55:07\n",
      "Processing with gpt-3.5-turbo-16k-0613 :\t 03/09/2024, 10:55:07 --> 03/09/2024, 10:55:45\n",
      "Processing with gpt-3.5-turbo-16k-0613 :\t 03/09/2024, 10:55:45 --> 03/09/2024, 10:55:52\n",
      "Processing with gpt-3.5-turbo-16k-0613 :\t 03/09/2024, 10:55:52 --> 03/09/2024, 10:55:53\n",
      "Processing with gpt-3.5-turbo-16k-0613 :\t 03/09/2024, 10:55:53 --> 03/09/2024, 10:56:01\n",
      "Processing with gpt-3.5-turbo-16k-0613 :\t 03/09/2024, 10:56:01 --> 03/09/2024, 10:56:04\n",
      "Processing with gpt-3.5-turbo-16k-0613 :\t 03/09/2024, 10:56:04 --> 03/09/2024, 10:56:10\n"
     ]
    }
   ],
   "source": [
    "for k in range(15):\n",
    "    ACTIONS = []\n",
    "    for p in world[\"people\"]:\n",
    "        NAME = world[\"people\"][p][\"name\"].replace(\",\",\" \")\n",
    "        a = h.ask(fullcontext(CONTEXT,SCENES),\"Write a paragraph about \"+NAME+\", considering if they are exactly at the room temperature they need (if not, they are not happy). Given it has taken some time already, people can start and loose patience. They try to avoid what has already been tested in the previous three scenes.\")\n",
    "        b = h.ask(a,\"Now, write two bullet points that are the next two immediate actions \"+NAME+\" will take now (they can act on the room, negotiate with others, do things themselves), specifying \"+NAME+\"'s name. These bullet points must be separated by newlines from the rest of the text, and start with the name of the character.\")\n",
    "        ACTIONS.append([NAME,b])\n",
    "\n",
    "    acts = []\n",
    "    for x in ACTIONS:\n",
    "        acts.append(\"\\n\")\n",
    "        acts.append(x[0])\n",
    "        acts.append(\"\\n\")\n",
    "        for k in x[1].split(\"\\n\")[-2:]:\n",
    "            acts.append(k)\n",
    "    THEN = \"\\n\".join(acts)\n",
    "    ALLACTIONS.append(THEN)\n",
    "\n",
    "    nxt = h.ask(\"You are writing a scenario in the style of Stephen King. The context is as follows:\\n\"+fullcontext(CONTEXT,SCENES)+\"\\n\\nand your characters want to do the following:\\n \"+THEN, \"Write a couple of paragraphs that articulates the different actions and describes the scene. Use simple phrases. There can be dialogs. Do not mention the nicknames of the characters. One character can be unhappy. \")\n",
    "    room = h.ask(\"You are writing a scenario in the style of Stephen King. The context is as follows:\\n\"+fullcontext(CONTEXT,SCENES)+\"\\n\\n# The room\\nThe room looked like:\\nn\"+ROOMS[-1]+\"\\n\\n## Actions\\n\\nThen the characters did this:\\n\\n\"+nxt,\"Add then a very detailed paragraph that details how the room looks like, what it contains, who is where, etc... after the actions of the characters have resolved .\")\n",
    "    SCENES.append(nxt)\n",
    "    ROOMS.append(room)\n"
   ]
  },
  {
   "cell_type": "code",
   "execution_count": null,
   "metadata": {},
   "outputs": [],
   "source": [
    "def fullcontexttwo(CONTEXT,SCENES,ACTIONS,ROOMS):\n",
    "    rrr = str(CONTEXT.replace(ROOM,\"\")) \n",
    "    if len(SCENES):\n",
    "        rrr += \"\\n\\n# Previous scenes\\n\\n\"\n",
    "        for k in range(len(SCENES)):\n",
    "            rrr += \"\\n\\n## Scene n\"+str(k)+\":\\n\\n\"\n",
    "            rrr += \"\\n\\n### Intents\\n\\n\"+ACTIONS[k]+\"\\n\\n\"\n",
    "            rrr += \"\\n\\n### Visible actions\\n\\n\"+SCENES[k]+\"\\n\\n\"\n",
    "            rrr += \"\\n\\n### State of the room\\n\\n\"+ROOMS[k]+\"\\n\\n\"            \n",
    "\n",
    "            \n",
    "    return rrr"
   ]
  },
  {
   "cell_type": "code",
   "execution_count": null,
   "metadata": {},
   "outputs": [],
   "source": [
    "MOVIE = fullcontexttwo(CONTEXT,SCENES,ALLACTIONS,ROOMS)\n",
    "with open(\"output/movie_3_suite.md\",\"w\") as f:\n",
    "    f.write(MOVIE)"
   ]
  },
  {
   "cell_type": "code",
   "execution_count": null,
   "metadata": {},
   "outputs": [],
   "source": [
    "def fullcontextthree(CONTEXT,SCENES,ACTIONS,ROOMS):\n",
    "    rrr = str(CONTEXT.replace(ROOM,\"\")) \n",
    "    if len(SCENES):\n",
    "        rrr += \"\\n\\n# Previous scenes\\n\\n\"\n",
    "        for k in range(len(SCENES)):\n",
    "            rrr += \"\\n\\n## Chapter \"+str(k)+\":\\n\\n\"\n",
    "            rrr += \"\\n\\n### Visible actions\\n\\n\"+SCENES[k]+\"\\n\\n\"         \n",
    "\n",
    "    return rrr"
   ]
  },
  {
   "cell_type": "code",
   "execution_count": null,
   "metadata": {},
   "outputs": [],
   "source": [
    "MOVIE = fullcontextthree(CONTEXT,SCENES,ALLACTIONS,ROOMS)\n",
    "with open(\"output/movie_3_suite_simple.md\",\"w\") as f:\n",
    "    f.write(MOVIE)"
   ]
  }
 ],
 "metadata": {
  "kernelspec": {
   "display_name": "venv",
   "language": "python",
   "name": "python3"
  },
  "language_info": {
   "codemirror_mode": {
    "name": "ipython",
    "version": 3
   },
   "file_extension": ".py",
   "mimetype": "text/x-python",
   "name": "python",
   "nbconvert_exporter": "python",
   "pygments_lexer": "ipython3",
   "version": "3.10.12"
  }
 },
 "nbformat": 4,
 "nbformat_minor": 2
}
